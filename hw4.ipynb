{
  "cells": [
    {
      "cell_type": "markdown",
      "metadata": {
        "id": "nuCFdN40kD3N"
      },
      "source": [
        "# Assignment 4: Eigenvectors, eigenvalues, Google PageRank\n",
        "\n",
        "## Highlights about the assignment (very important):\n",
        "\n",
        "<div class=\"alert alert-success\">\n",
        "<ul>\n",
        "<li> Test your code and make sure it passes all visible tests. <b>Submit the last saved version of your code.<b>\n",
        "</li>\n",
        "<li> <b> Work by yourself</b> and submit your own assignment, <b>no pairing</b> to other students.</li>\n",
        "<li> If you are not attempting a question, refrain from removing the \"raise NotImplementedError\" line.\n",
        "<li> Do <b>NOT submit extra files.</b>\n",
        "<li> <b>Submit only a .ipynb file.</b>\n",
        "<li> To <b>submit</b> the assignment, download the notebook (File → Download .ipynb in Google Colab).</li>\n",
        "</ul>\n",
        "</div>\n"
      ]
    },
    {
      "cell_type": "code",
      "execution_count": 31,
      "metadata": {
        "id": "EbQdRNfPkD3N"
      },
      "outputs": [],
      "source": [
        "import numpy as np\n",
        "import numpy.linalg as la\n",
        "import networkx as nx\n",
        "import matplotlib.pyplot as plt"
      ]
    },
    {
      "cell_type": "markdown",
      "metadata": {
        "id": "0NFDA3uFHcf_"
      },
      "source": [
        "## Question 1: eigenvalues and eigenvectors\n",
        "\n",
        "Matrix  $M=\\pmatrix{7 & -8 & 4 \\\\ 2 &  -3 &  4 \\\\ 2 & -10 & 11}$ is given.\n",
        "\n",
        "\n",
        "Q1.1 Find eigenvalues and eigenvectors of the matrix.\n",
        "\n",
        "<pre> \n",
        "Implement the function eigM() that returns a tuple (Eigenvalues, Eigenvectors)\n",
        "------------\n",
        "Input parameters:\n",
        "-nothing-\n",
        "------------\n",
        "return value:\n",
        "- Eigenvalues - list of the eigenvalues of the matrix M\n",
        "- Eigenvectors - list of the eigenvectors of the matrix M\n",
        "------------\n",
        "</pre>\n",
        "\n"
      ]
    },
    {
      "cell_type": "code",
      "execution_count": 32,
      "metadata": {
        "id": "QClcZNwbNVJ9"
      },
      "outputs": [],
      "source": [
        "\n",
        "def eigM():\n",
        "    # Define the matrix M\n",
        "    M = np.array([[7, -8, 4], [2, -3, 4], [2, -10, 11]])\n",
        "    \n",
        "    # Calculate the eigenvalues and eigenvectors of M\n",
        "    eigenvalues, eigenvectors = np.linalg.eig(M)\n",
        "    \n",
        "    # Return the eigenvalues and eigenvectors as a tuple\n",
        "    return eigenvalues, eigenvectors\n"
      ]
    },
    {
      "cell_type": "code",
      "execution_count": 33,
      "metadata": {
        "colab": {
          "base_uri": "https://localhost:8080/"
        },
        "id": "PURnMdma9__5",
        "outputId": "462b5e19-036a-4825-d4de-cb1c195743ac"
      },
      "outputs": [
        {
          "output_type": "stream",
          "name": "stdout",
          "text": [
            "Test - Testing the implementation of the 'eigM' function..\n",
            " \n",
            "\n",
            " Eigenvalues and eigenvectors of the given matrix: \n",
            "===================================================\n",
            "Eigenvalues: [5 3 7]\n",
            "Eigenvectors:\n",
            "[[1 -1 0]\n",
            " [0 -1 0]\n",
            " [0 -1 1]]\n",
            "\n",
            "\n",
            " there will be hidden tests ... \n"
          ]
        }
      ],
      "source": [
        "# --------------------------- RUN THIS TEST CODE CELL -------------------------------------\n",
        "# Q1.1 --- Test your implementation:\n",
        "# ---------------------------\n",
        "print (\"Test - Testing the implementation of the 'eigM' function..\\n \")\n",
        "title = \"Eigenvalues and eigenvectors of the given matrix:\"\n",
        "l,v = eigM()\n",
        "print(f\"\\n {title} \")\n",
        "print(\"=\"*(len(title)+2))\n",
        "print(f\"Eigenvalues: {l}\")\n",
        "print(f\"Eigenvectors:\\n{v}\")\n",
        "print (\"\\n\\n there will be hidden tests ... \")"
      ]
    },
    {
      "cell_type": "markdown",
      "metadata": {
        "id": "5yu2V2_BPExv"
      },
      "source": [
        "Q1.2. Find a matrix with the same eigenvalues as M from Q1.1 but different eigenvectors.\n",
        "\n",
        "<pre> \n",
        "compute diffVectorsM() that returns the requested Matrix above\n",
        "------------\n",
        "Input parameters:\n",
        "-nothing-\n",
        "------------\n",
        "return value:\n",
        "- M - requested Matrix\n",
        "------------\n",
        "</pre>"
      ]
    },
    {
      "cell_type": "code",
      "execution_count": 34,
      "metadata": {
        "id": "j-Qa1HfBQMZe"
      },
      "outputs": [],
      "source": [
        "\n",
        "def diffVectorsM():\n",
        "    # Define the eigenvalues\n",
        "    eigenvalues = np.array([5, 3, 7])\n",
        "    \n",
        "    # Construct a diagonal matrix with the eigenvalues\n",
        "    M = np.diag(eigenvalues)\n",
        "    \n",
        "    # Return the matrix M\n",
        "    return M\n",
        "\n",
        "M = diffVectorsM()\n"
      ]
    },
    {
      "cell_type": "code",
      "execution_count": 35,
      "metadata": {
        "colab": {
          "base_uri": "https://localhost:8080/"
        },
        "id": "HQVh38M-mzw5",
        "outputId": "90f847ce-3f6e-4ccd-eb70-a9ef3373e5dd"
      },
      "outputs": [
        {
          "output_type": "stream",
          "name": "stdout",
          "text": [
            "Test - Testing the implementation of the 'diffVectorsM' function..\n",
            " \n",
            "new Matrix:\n",
            " [[5 0 0]\n",
            " [0 3 0]\n",
            " [0 0 7]]\n",
            "\n",
            "\n",
            " there will be hidden tests ... \n"
          ]
        }
      ],
      "source": [
        "# --------------------------- RUN THIS TEST CODE CELL -------------------------------------\n",
        "# Q1.2 --- Test your implementation:\n",
        "# ---------------------------\n",
        "print (\"Test - Testing the implementation of the 'diffVectorsM' function..\\n \")\n",
        "print(f\"new Matrix:\\n {diffVectorsM()}\")\n",
        "print (\"\\n\\n there will be hidden tests ... \")"
      ]
    },
    {
      "cell_type": "markdown",
      "metadata": {
        "id": "_tE7t9JNOF2O"
      },
      "source": [
        "Q1.3 Find a matrix with the same eigenvectors but with eigenvalues of half the value of M's eigenvalues (the matrix from Q1.1) .\n",
        "\n",
        "<pre> \n",
        "Implement the function halfEigenM() that returns the requested Matrix above\n",
        "------------\n",
        "Input parameters:\n",
        "-nothing-\n",
        "------------\n",
        "return value:\n",
        "- A - requested Matrix\n",
        "------------\n",
        "</pre>"
      ]
    },
    {
      "cell_type": "code",
      "execution_count": 36,
      "metadata": {
        "id": "xhP4nVmCOUfO"
      },
      "outputs": [],
      "source": [
        "import numpy as np\n",
        "\n",
        "def halfEigenM():\n",
        "    eigenvalues = np.array([5, 3, 7])\n",
        "    eigenvectors = np.array([[0.81649658, -0.57735027, 0.40824829],\n",
        "                             [0.40824829, -0.57735027, 0.40824829],\n",
        "                             [0.40824829, -0.57735027, 0.81649658]])\n",
        "    half_eigenvalues = np.sqrt(eigenvalues / 2)\n",
        "    A = np.dot(eigenvectors, np.diag(half_eigenvalues))\n",
        "    return A\n"
      ]
    },
    {
      "cell_type": "code",
      "execution_count": 37,
      "metadata": {
        "colab": {
          "base_uri": "https://localhost:8080/"
        },
        "id": "_2bT1DjDAcLs",
        "outputId": "af47032e-009e-4b10-fdcd-6d41f631d5e6"
      },
      "outputs": [
        {
          "output_type": "stream",
          "name": "stdout",
          "text": [
            "Test - Testing the implementation of the 'halfEigenM' function..\n",
            " \n",
            "new Matrix:\n",
            " [[1 -1 1]\n",
            " [1 -1 1]\n",
            " [1 -1 2]]\n",
            "\n",
            "\n",
            " there will be hidden tests ... \n"
          ]
        }
      ],
      "source": [
        "# --------------------------- RUN THIS TEST CODE CELL -------------------------------------\n",
        "# Q1.3 --- Test your implementation:\n",
        "# ---------------------------\n",
        "print (\"Test - Testing the implementation of the 'halfEigenM' function..\\n \")\n",
        "print(f\"new Matrix:\\n {halfEigenM()}\")\n",
        "print (\"\\n\\n there will be hidden tests ... \")"
      ]
    },
    {
      "cell_type": "markdown",
      "metadata": {
        "id": "lEGxBQrzOeGR"
      },
      "source": [
        "Q1.4 Write a function that given a list of eigenvalues, returns a matrix with those eigenvalues. Example:\n",
        "\n",
        "```\n",
        ">> eigenvalues_to_matrix([0, 2])\n",
        "[[1, -1],\n",
        " [-1, 1]]\n",
        "```\n",
        "\n",
        "<pre> \n",
        "Implement the function eigenvalues_to_matrix(eigenvalues) satisfying the requirments above \n",
        "------------\n",
        "Input parameters:\n",
        "- eigenvalues - list of eigenvalues \n",
        "------------\n",
        "return value:\n",
        "- M - requested Matrix\n",
        "------------\n",
        "</pre>"
      ]
    },
    {
      "cell_type": "code",
      "execution_count": 38,
      "metadata": {
        "colab": {
          "base_uri": "https://localhost:8080/"
        },
        "id": "f0dCpFrVOszu",
        "outputId": "2ca883cd-1f3d-44d9-8aa8-cca131b82381"
      },
      "outputs": [
        {
          "output_type": "stream",
          "name": "stdout",
          "text": [
            "[[1 1]\n",
            " [1 -1]]\n"
          ]
        }
      ],
      "source": [
        "\n",
        "def eigenvalues_to_matrix(eigenvalues):\n",
        "    size = len(eigenvalues)\n",
        "    ones_matrix = np.ones((size, size))\n",
        "    M = ones_matrix - np.diag(eigenvalues)\n",
        "    return M\n",
        "\n",
        "# Set the print options to use commas instead of dots\n",
        "np.set_printoptions(formatter={'float': lambda x: \"{:,.0f}\".format(x)})\n",
        "\n",
        "eigenvalues = [0, 2]\n",
        "M = eigenvalues_to_matrix(eigenvalues)\n",
        "print(M)\n"
      ]
    },
    {
      "cell_type": "code",
      "execution_count": 39,
      "metadata": {
        "colab": {
          "base_uri": "https://localhost:8080/"
        },
        "id": "ecVs6-nkBOEy",
        "outputId": "8850ae85-8273-4b51-912c-fb6c049ad254"
      },
      "outputs": [
        {
          "output_type": "stream",
          "name": "stdout",
          "text": [
            "Test - Testing the implementation of the 'eigenvalues_to_matrix' function..\n",
            " \n",
            "new Matrix:\n",
            " [[-7 1 1]\n",
            " [1 -6 1]\n",
            " [1 1 -5]]\n",
            "\n",
            "\n",
            " there will be hidden tests ... \n"
          ]
        }
      ],
      "source": [
        "# --------------------------- RUN THIS TEST CODE CELL -------------------------------------\n",
        "# Q1.4 --- Test your implementation:\n",
        "# ---------------------------\n",
        "print (\"Test - Testing the implementation of the 'eigenvalues_to_matrix' function..\\n \")\n",
        "print(f\"new Matrix:\\n {eigenvalues_to_matrix([8, 7, 6])}\")\n",
        "print (\"\\n\\n there will be hidden tests ... \")"
      ]
    },
    {
      "cell_type": "markdown",
      "metadata": {
        "id": "XldFuwZtOquY"
      },
      "source": [
        "Q1.5 Write a function that given a pair of verctors, returns the euclidian distance between them. you can use the numpy function: `la.norm(vector, 2)`.\n",
        "\n",
        "For reading more about norms: https://en.wikipedia.org/wiki/Norm_(mathematics) \n",
        " \n",
        " Example:\n",
        "\n",
        "```\n",
        ">> euclidian_distance((0,1), (1,1))\n",
        "1\n",
        "```\n",
        "\n",
        "<pre> \n",
        "Implement the function euclidian_distance(v1, v2) satisfying the requirments above \n",
        "------------\n",
        "Input parameters:\n",
        "- v1 - first vector\n",
        "- v2 - second vector\n",
        "------------\n",
        "return value:\n",
        "- the distance between v1 and v2\n",
        "------------\n",
        "</pre>"
      ]
    },
    {
      "cell_type": "code",
      "execution_count": 40,
      "metadata": {
        "colab": {
          "base_uri": "https://localhost:8080/"
        },
        "id": "fplJaieiOqJW",
        "outputId": "85f16fb3-d396-40a2-abee-5d6e1427c1dd"
      },
      "outputs": [
        {
          "output_type": "execute_result",
          "data": {
            "text/plain": [
              "1.0"
            ]
          },
          "metadata": {},
          "execution_count": 40
        }
      ],
      "source": [
        "\n",
        "import numpy as np\n",
        "\n",
        "def euclidian_distance(v1, v2):\n",
        "    return np.linalg.norm(np.array(v1) - np.array(v2), 2)\n",
        "\n",
        "\n",
        "euclidian_distance((0,1), (1,1))\n"
      ]
    },
    {
      "cell_type": "code",
      "execution_count": 41,
      "metadata": {
        "colab": {
          "base_uri": "https://localhost:8080/"
        },
        "id": "_Lc6GC0sE0EA",
        "outputId": "88de2200-0644-4325-a731-0660816a397a"
      },
      "outputs": [
        {
          "output_type": "stream",
          "name": "stdout",
          "text": [
            "Test - Testing the implementation of the 'eigenvalues_to_matrix' function..\n",
            " \n",
            "distance is:\n",
            " 0.7824217493416107\n",
            "\n",
            "\n",
            " there will be hidden tests ... \n"
          ]
        }
      ],
      "source": [
        "# --------------------------- RUN THIS TEST CODE CELL -------------------------------------\n",
        "# Q1.5 --- Test your implementation:\n",
        "# ---------------------------\n",
        "print (\"Test - Testing the implementation of the 'eigenvalues_to_matrix' function..\\n \")\n",
        "print(f\"distance is:\\n {euclidian_distance(np.random.rand(7, 1), np.random.rand(7, 1))}\")\n",
        "print (\"\\n\\n there will be hidden tests ... \")"
      ]
    },
    {
      "cell_type": "markdown",
      "metadata": {
        "id": "AD39dQ8TkD3O"
      },
      "source": [
        "## Question 2: Google PageRank\n",
        "\n",
        "A directed graph $G$ is given:\n",
        "\n",
        "![image.png](data:image/png;base64,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)\n"
      ]
    },
    {
      "cell_type": "markdown",
      "metadata": {
        "id": "4Jw8GfIWkD3O"
      },
      "source": [
        "Q2.1  Write adjacency matrix $A$ for $G$.\n",
        "<pre> \n",
        "Implement adj_matrix() according to the image above \n",
        "------------\n",
        "Input parameters:\n",
        "- nothing -\n",
        "------------\n",
        "return value:\n",
        "- M - requested Matrix\n",
        "------------\n",
        "</pre>"
      ]
    },
    {
      "cell_type": "code",
      "execution_count": 69,
      "metadata": {
        "colab": {
          "base_uri": "https://localhost:8080/"
        },
        "id": "jdP6TMmkZuxE",
        "outputId": "1c1650bc-3787-476f-f78e-447efe60e235"
      },
      "outputs": [
        {
          "output_type": "stream",
          "name": "stdout",
          "text": [
            "[[0 1 0 1 0 1 1]\n",
            " [0 0 0 0 1 0 1]\n",
            " [1 0 0 1 1 0 1]\n",
            " [0 1 0 0 0 1 1]\n",
            " [0 0 0 0 0 0 1]\n",
            " [0 0 1 0 1 0 1]\n",
            " [0 0 1 0 0 0 0]]\n"
          ]
        }
      ],
      "source": [
        "\n",
        "def adj_matrix():\n",
        "    M = np.array([[0, 1, 0, 1, 0, 1, 1],\n",
        "                  [0, 0, 0, 0, 1, 0, 1],\n",
        "                  [1, 0, 0, 1, 1, 0, 1],\n",
        "                  [0, 1, 0, 0, 0, 1, 1],\n",
        "                  [0, 0, 0, 0, 0, 0, 1],\n",
        "                  [0, 0, 1, 0, 1, 0, 1],\n",
        "                  [0, 0, 1, 0, 0, 0, 0]])\n",
        "    return M\n",
        "\n",
        "matrix = adj_matrix()\n",
        "print(matrix)\n"
      ]
    },
    {
      "cell_type": "code",
      "execution_count": 70,
      "metadata": {
        "colab": {
          "base_uri": "https://localhost:8080/"
        },
        "id": "ZApuY-r_97-A",
        "outputId": "92bfedcf-bcd1-4ff6-ed84-a171d0d8ec02"
      },
      "outputs": [
        {
          "output_type": "stream",
          "name": "stdout",
          "text": [
            "Test - Testing the implementation of the 'adj_matrix' function..\n",
            " \n",
            "the adjacency matrix:\n",
            " [[0 1 0 1 0 1 1]\n",
            " [0 0 0 0 1 0 1]\n",
            " [1 0 0 1 1 0 1]\n",
            " [0 1 0 0 0 1 1]\n",
            " [0 0 0 0 0 0 1]\n",
            " [0 0 1 0 1 0 1]\n",
            " [0 0 1 0 0 0 0]]\n",
            "\n",
            "\n",
            " there will be hidden tests ... \n"
          ]
        }
      ],
      "source": [
        "# --------------------------- RUN THIS TEST CODE CELL -------------------------------------\n",
        "# Q2.1 --- Test your implementation:\n",
        "# ---------------------------\n",
        "print (\"Test - Testing the implementation of the 'adj_matrix' function..\\n \")\n",
        "print(f\"the adjacency matrix:\\n {np.array(adj_matrix())}\")\n",
        "print (\"\\n\\n there will be hidden tests ... \")"
      ]
    },
    {
      "cell_type": "markdown",
      "metadata": {
        "id": "kctPkpO6ZwBa"
      },
      "source": [
        "Q2.2  Compute Google PageRank of all nodes in $G$.\n",
        "<br><b>Use the iterative solution</b>\n",
        "\n",
        "<pre> \n",
        "Implement PG_rank_iter(M) that returns a vector of pagerank of all nodes of Matrix (for any matrix)\n",
        "------------\n",
        "Input parameters:\n",
        "- M - Matrix to apply pagerank to\n",
        "- d - Damping factor (default value = 0.85 as seen in class)\n",
        "------------\n",
        "return value:\n",
        "- pagerank_vector - pagerank vector of all the nodes\n",
        "------------\n",
        "</pre>\n"
      ]
    },
    {
      "cell_type": "code",
      "execution_count": 76,
      "metadata": {
        "id": "dIHWtHFNswcB"
      },
      "outputs": [],
      "source": [
        "import numpy as np\n",
        "\n",
        "def normalize_adjacency_matrix(M):\n",
        "    norms = np.sum(M, axis=0)\n",
        "    norms[norms == 0] = 1\n",
        "    return M / norms\n",
        "\n",
        "def PG_rank_iter(M, d=0.85):\n",
        "    def pagerank_iterative(A, num_iterations=100, d=0.85):\n",
        "        N = A.shape[1]\n",
        "        v = np.random.rand(N, 1)\n",
        "        v = v / np.linalg.norm(v, 1)\n",
        "        for _ in range(num_iterations):\n",
        "            v = d * A @ v + (1 - d) / N\n",
        "        return v[:, 0]\n",
        "\n",
        "    M_normalized = normalize_adjacency_matrix(M)\n",
        "    pagerank_vector = pagerank_iterative(M_normalized, d=d)\n",
        "    return pagerank_vector\n"
      ]
    },
    {
      "cell_type": "code",
      "execution_count": 77,
      "metadata": {
        "colab": {
          "base_uri": "https://localhost:8080/"
        },
        "id": "4PBLxZIx_rgc",
        "outputId": "315e7965-bbf7-4266-866a-6a505093adc0"
      },
      "outputs": [
        {
          "output_type": "stream",
          "name": "stdout",
          "text": [
            "Test - Testing the implementation of the 'PG_rank_iter' function..\n",
            " \n",
            "Node no. 1 , google pagerank= 0.19223623622987587\n",
            "Node no. 2 , google pagerank= 0.05250860005732225\n",
            "Node no. 3 , google pagerank= 0.2732430151668902\n",
            "Node no. 4 , google pagerank= 0.13490262191570238\n",
            "Node no. 5 , google pagerank= 0.040915792252458894\n",
            "Node no. 6 , google pagerank= 0.1686368815032506\n",
            "Node no. 7 , google pagerank= 0.13755685287449976\n",
            "\n",
            "\n",
            " there will be hidden tests ... \n"
          ]
        }
      ],
      "source": [
        "# --------------------------- RUN THIS TEST CODE CELL -------------------------------------\n",
        "# Q2.2 --- Test your implementation:\n",
        "# ---------------------------\n",
        "print (\"Test - Testing the implementation of the 'PG_rank_iter' function..\\n \")\n",
        "M = adj_matrix()\n",
        "va = PG_rank_iter(M)\n",
        "for i in range(len(va)):\n",
        "    print(\"Node no.\",str(i+1),\", google pagerank=\",va[i])\n",
        "print (\"\\n\\n there will be hidden tests ... \")"
      ]
    },
    {
      "cell_type": "markdown",
      "metadata": {
        "id": "eZsNGlMrsw3I"
      },
      "source": [
        "Q2.3  Change the graph edges (in the adjacency matrix of Q2.1) such that node 1 has the lowest rank.\n",
        "<br><b>Use the algebraic solution</b>\n",
        "\n",
        "<pre> \n",
        "Implement n1_lowest_Rank() that returns a vector of pagerank of all nodes of the Matrix after the change \n",
        "------------\n",
        "Input parameters:\n",
        "- Nothing - \n",
        "------------\n",
        "return value:\n",
        "- pagerank_vector - pagerank vector of all the nodes\n",
        "------------\n",
        "</pre>"
      ]
    },
    {
      "cell_type": "code",
      "execution_count": 91,
      "metadata": {
        "id": "1LB5o6pYaHj5"
      },
      "outputs": [],
      "source": [
        "import numpy as np\n",
        "from numpy import linalg as la\n",
        "\n",
        "def n1_lowest_Rank():\n",
        "    def pagerank_algebraic(A, d=0.85):\n",
        "        N = A.shape[0]\n",
        "        return la.inv(np.eye(N) - d * A) @ ((1 - d) / N * np.ones(N).T)\n",
        "\n",
        "    M = np.array([[0, 1, 0, 1, 0, 1, 1],\n",
        "                  [0, 0, 0, 0, 1, 0, 1],\n",
        "                  [1, 0, 0, 1, 1, 0, 1],\n",
        "                  [0, 1, 0, 0, 0, 1, 1],\n",
        "                  [0, 0, 0, 0, 0, 0, 1],\n",
        "                  [0, 0, 1, 0, 1, 0, 1],\n",
        "                  [0, 0, 1, 0, 0, 0, 0]])\n",
        "\n",
        "    M[:, 0] = 1\n",
        "    M[0, :] = 0\n",
        "    M[0, 0] = 1\n",
        "\n",
        "    norms = np.sum(M, axis=0)\n",
        "    norms[norms == 0] = 1\n",
        "    M = M / norms\n",
        "\n",
        "    pagerank_vector = pagerank_algebraic(M)\n",
        "\n",
        "    return pagerank_vector\n"
      ]
    },
    {
      "cell_type": "code",
      "execution_count": 92,
      "metadata": {
        "colab": {
          "base_uri": "https://localhost:8080/"
        },
        "id": "WVW1BGr8BxVT",
        "outputId": "7be569cc-3d52-4851-d258-ae0f45795baf"
      },
      "outputs": [
        {
          "output_type": "stream",
          "name": "stdout",
          "text": [
            "Test - Testing the implementation of the 'n1_lowest_Rank' function..\n",
            " \n",
            "Node no. 1 , google pagerank= 0.02439024390243903\n",
            "Node no. 2 , google pagerank= 0.06268603994415636\n",
            "Node no. 3 , google pagerank= 0.28110283080549137\n",
            "Node no. 4 , google pagerank= 0.2569609304251\n",
            "Node no. 5 , google pagerank= 0.04884626489155042\n",
            "Node no. 6 , google pagerank= 0.1821547430364902\n",
            "Node no. 7 , google pagerank= 0.14385894699477286\n",
            "\n",
            "\n",
            " there will be hidden tests ... \n"
          ]
        }
      ],
      "source": [
        "# --------------------------- RUN THIS TEST CODE CELL -------------------------------------\n",
        "# Q2.3 --- Test your implementation:\n",
        "# ---------------------------\n",
        "print (\"Test - Testing the implementation of the 'n1_lowest_Rank' function..\\n \")\n",
        "va = n1_lowest_Rank()\n",
        "for i in range(len(va)):\n",
        "    print(\"Node no.\",str(i+1),\", google pagerank=\",va[i])\n",
        "print (\"\\n\\n there will be hidden tests ... \")\n"
      ]
    },
    {
      "cell_type": "markdown",
      "metadata": {
        "id": "YAqgNM2QaInf"
      },
      "source": [
        "Q2.4 Write a function that inverts the directions of all edges of a graph, given its adjacency matrix M\n",
        "\n",
        "<pre> \n",
        "Write invert_graph(M) that returns the adjacency matrix of the inverted graph  \n",
        "------------\n",
        "Input parameters:\n",
        "- M - Adjacency matrix of some graph\n",
        "return value:\n",
        "- M_inv - Adjacency matrix of the inverted graph\n",
        "------------\n",
        "</pre>"
      ]
    },
    {
      "cell_type": "code",
      "execution_count": 48,
      "metadata": {
        "id": "vlrh1lfTeTaH"
      },
      "outputs": [],
      "source": [
        "\n",
        "def invert_graph(M):\n",
        "    rows, cols = M.shape\n",
        "    inverted_matrix = np.zeros((rows, cols))\n",
        "    for i in range(rows):\n",
        "        for j in range(cols):\n",
        "            inverted_matrix[i, j] = M[j, i]\n",
        "    return inverted_matrix\n"
      ]
    },
    {
      "cell_type": "code",
      "execution_count": 49,
      "metadata": {
        "colab": {
          "base_uri": "https://localhost:8080/"
        },
        "id": "AJniAQyoCFRJ",
        "outputId": "5ef454b4-afbf-4a4b-e588-02f67c71b27d"
      },
      "outputs": [
        {
          "output_type": "stream",
          "name": "stdout",
          "text": [
            "Test - Testing the implementation of the 'invert_graph' function..\n",
            " \n",
            "the inverted graph adjacency matrix is :\n",
            " [[0 0 1 0 0 0 0]\n",
            " [1 0 0 1 0 0 0]\n",
            " [0 0 0 0 0 1 1]\n",
            " [1 0 1 0 0 0 0]\n",
            " [0 1 1 0 0 1 0]\n",
            " [1 0 0 1 0 0 0]\n",
            " [1 1 1 1 1 1 0]]\n",
            "\n",
            "\n",
            " there will be hidden tests ... \n"
          ]
        }
      ],
      "source": [
        "# --------------------------- RUN THIS TEST CODE CELL -------------------------------------\n",
        "# Q2.4 --- Test your implementation:\n",
        "# ---------------------------\n",
        "print (\"Test - Testing the implementation of the 'invert_graph' function..\\n \")\n",
        "print(f\"the inverted graph adjacency matrix is :\\n {invert_graph(np.array(adj_matrix()))}\")\n",
        "print (\"\\n\\n there will be hidden tests ... \")"
      ]
    },
    {
      "cell_type": "markdown",
      "metadata": {
        "id": "iLwvqdvutAYF"
      },
      "source": [
        "Q2.5 How many iterations of iterative PageRank algorithm are required to approximate the exact (algebraic) PageRank algorithm with less than 0.01 absolute error?\n",
        "Hint: use the function from Q1.5 to determine the absolute error between $v_{alg}$ and $v_{iter}$ in every iteration.\n",
        "\n",
        "\\begin{align}\n",
        "      \\text{absolute error = }{||v_{alg} - v_{iter}||_{2}}\n",
        "    \\end{align}\n",
        "\n",
        "\n",
        "<pre> \n",
        "Write PageRank_iterative_by_errort(M, precent, d) that returns the number of iterations need for less than 0.01 absolute error\n",
        "------------\n",
        "Input parameters:\n",
        "- M -   numpy array\n",
        "        adjacency matrix \n",
        "        \n",
        "- error -   float\n",
        "        the tolerated error \n",
        "      \n",
        "- d -   float, optional\n",
        "        damping factor, by default 0.85\n",
        "\n",
        "\n",
        "return value:\n",
        "- answer - int\n",
        "            number of iterations to meet the desired percentages\n",
        "------------\n",
        "</pre>"
      ]
    },
    {
      "cell_type": "code",
      "execution_count": 93,
      "metadata": {
        "id": "s9YfDlUVtOQb"
      },
      "outputs": [],
      "source": [
        "import numpy as np\n",
        "\n",
        "def euclidean_distance(v1, v2):\n",
        "    return np.linalg.norm(np.array(v1) - np.array(v2), 2)\n",
        "\n",
        "def PageRank_iterative_by_error(M, error, d=0.85):\n",
        "    size = M.shape[0]\n",
        "    v_iter = np.full(size, 1 / size)\n",
        "    v_prev = np.zeros(size)\n",
        "    iterations = 0\n",
        "    \n",
        "    while euclidean_distance(v_prev, v_iter) > error:\n",
        "        v_prev = v_iter.copy()\n",
        "        v_iter = (1 - d) / size + d * M.T.dot(v_iter)\n",
        "        iterations += 1\n",
        "    \n",
        "    return iterations\n"
      ]
    },
    {
      "cell_type": "code",
      "execution_count": 95,
      "metadata": {
        "colab": {
          "base_uri": "https://localhost:8080/"
        },
        "id": "uodFU1v8Gf4u",
        "outputId": "ec2d52f1-b974-438f-fb84-7c9af9c121b8"
      },
      "outputs": [
        {
          "output_type": "stream",
          "name": "stdout",
          "text": [
            "Test - Testing the implementation of the 'PageRank_iterative_by_percent' function..\n",
            " \n",
            "the itertive PageRank algorithm need to run :   1103 iterartions\n",
            "\n",
            "\n",
            " there will be hidden tests ... \n"
          ]
        }
      ],
      "source": [
        "# --------------------------- RUN THIS TEST CODE CELL -------------------------------------\n",
        "# Q2.5 --- Test your implementation:\n",
        "# ---------------------------\n",
        "print (\"Test - Testing the implementation of the 'PageRank_iterative_by_percent' function..\\n \")\n",
        "error = 0.01\n",
        "print(f\"the itertive PageRank algorithm need to run :   {PageRank_iterative_by_error(adj_matrix(),error)} iterartions\")\n",
        "print (\"\\n\\n there will be hidden tests ... \")"
      ]
    },
    {
      "cell_type": "markdown",
      "metadata": {
        "id": "sus-vRfVCGav"
      },
      "source": [
        "# Reminder:\n",
        "###  Make sure you test your code and submit the last saved version."
      ]
    }
  ],
  "metadata": {
    "colab": {
      "provenance": []
    },
    "kernelspec": {
      "display_name": "Python 3",
      "name": "python3"
    }
  },
  "nbformat": 4,
  "nbformat_minor": 0
}